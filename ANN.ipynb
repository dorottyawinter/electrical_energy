{
  "nbformat": 4,
  "nbformat_minor": 0,
  "metadata": {
    "colab": {
      "name": "ANN",
      "provenance": [],
      "collapsed_sections": [],
      "toc_visible": true
    },
    "kernelspec": {
      "name": "python3",
      "display_name": "Python 3"
    }
  },
  "cells": [
    {
      "cell_type": "markdown",
      "metadata": {
        "id": "3cbb7fRy-eyr",
        "colab_type": "text"
      },
      "source": [
        "# Artificial Neural Network"
      ]
    },
    {
      "cell_type": "markdown",
      "metadata": {
        "id": "8sNDnxE2-pwE",
        "colab_type": "text"
      },
      "source": [
        "### Importing the libraries"
      ]
    },
    {
      "cell_type": "code",
      "metadata": {
        "id": "P2podaFmimnE",
        "colab_type": "code",
        "colab": {}
      },
      "source": [
        "import numpy as np\n",
        "import pandas as pd\n",
        "import tensorflow as tf"
      ],
      "execution_count": 1,
      "outputs": []
    },
    {
      "cell_type": "code",
      "metadata": {
        "id": "0h9pxtiyjGs5",
        "colab_type": "code",
        "colab": {
          "base_uri": "https://localhost:8080/",
          "height": 35
        },
        "outputId": "70c59b8c-365b-4ae8-c945-49c4f60c9458"
      },
      "source": [
        "tf.__version__"
      ],
      "execution_count": 2,
      "outputs": [
        {
          "output_type": "execute_result",
          "data": {
            "application/vnd.google.colaboratory.intrinsic+json": {
              "type": "string"
            },
            "text/plain": [
              "'2.3.0'"
            ]
          },
          "metadata": {
            "tags": []
          },
          "execution_count": 2
        }
      ]
    },
    {
      "cell_type": "markdown",
      "metadata": {
        "id": "AG3FQEch-yuA",
        "colab_type": "text"
      },
      "source": [
        "## Part 1 - Data Preprocessing"
      ]
    },
    {
      "cell_type": "markdown",
      "metadata": {
        "id": "-4zq8Mza_D9O",
        "colab_type": "text"
      },
      "source": [
        "### Importing the dataset"
      ]
    },
    {
      "cell_type": "code",
      "metadata": {
        "id": "uvFYyeJ06OLv",
        "colab_type": "code",
        "colab": {}
      },
      "source": [
        "data = pd.read_excel('Folds5x2_pp.xlsx')"
      ],
      "execution_count": 3,
      "outputs": []
    },
    {
      "cell_type": "code",
      "metadata": {
        "id": "-zwLD7El6X-F",
        "colab_type": "code",
        "colab": {}
      },
      "source": [
        "X = data.iloc[:, :-1].values\n",
        "y = data.iloc[:, -1].values"
      ],
      "execution_count": 4,
      "outputs": []
    },
    {
      "cell_type": "markdown",
      "metadata": {
        "id": "VC6omXel_Up0",
        "colab_type": "text"
      },
      "source": [
        "### Splitting the dataset into the Training set and Test set"
      ]
    },
    {
      "cell_type": "code",
      "metadata": {
        "id": "skKXoYM980nu",
        "colab_type": "code",
        "colab": {}
      },
      "source": [
        "from sklearn.model_selection import train_test_split"
      ],
      "execution_count": 7,
      "outputs": []
    },
    {
      "cell_type": "code",
      "metadata": {
        "id": "JGCYxwiD9DoX",
        "colab_type": "code",
        "colab": {}
      },
      "source": [
        "X_train, X_test, y_train, y_test = train_test_split(X, y, test_size=0.2, random_state=42)"
      ],
      "execution_count": 8,
      "outputs": []
    },
    {
      "cell_type": "markdown",
      "metadata": {
        "id": "_mSLlAT9_eyI",
        "colab_type": "text"
      },
      "source": [
        "## Part 2 - Building the ANN"
      ]
    },
    {
      "cell_type": "markdown",
      "metadata": {
        "id": "CsBULd_f_wLY",
        "colab_type": "text"
      },
      "source": [
        "### Initializing the ANN"
      ]
    },
    {
      "cell_type": "code",
      "metadata": {
        "id": "Xij5fIuvAAW-",
        "colab_type": "code",
        "colab": {}
      },
      "source": [
        "ann = tf.keras.models.Sequential()"
      ],
      "execution_count": 9,
      "outputs": []
    },
    {
      "cell_type": "markdown",
      "metadata": {
        "id": "iitAFJS_ABUn",
        "colab_type": "text"
      },
      "source": [
        "### Adding the input layer and the first hidden layer"
      ]
    },
    {
      "cell_type": "code",
      "metadata": {
        "id": "7b3LZEcUAzLD",
        "colab_type": "code",
        "colab": {}
      },
      "source": [
        "ann.add(tf.keras.layers.Dense(units=6, activation='relu'))"
      ],
      "execution_count": 10,
      "outputs": []
    },
    {
      "cell_type": "markdown",
      "metadata": {
        "id": "-lb4kK_wAKbs",
        "colab_type": "text"
      },
      "source": [
        "### Adding the second hidden layer"
      ]
    },
    {
      "cell_type": "code",
      "metadata": {
        "id": "JE_lJfLECMo7",
        "colab_type": "code",
        "colab": {}
      },
      "source": [
        "ann.add(tf.keras.layers.Dense(units=6, activation='relu'))"
      ],
      "execution_count": 11,
      "outputs": []
    },
    {
      "cell_type": "markdown",
      "metadata": {
        "id": "jwMOmKb3AdBY",
        "colab_type": "text"
      },
      "source": [
        "### Adding the output layer"
      ]
    },
    {
      "cell_type": "code",
      "metadata": {
        "id": "DAxH5XH5DJbL",
        "colab_type": "code",
        "colab": {}
      },
      "source": [
        "ann.add(tf.keras.layers.Dense(units=1)) \n",
        "# regression: no activation function\n",
        "# classification with 2 classes: sigmoid\n",
        "# classification with more than 2 classes: softmax"
      ],
      "execution_count": 12,
      "outputs": []
    },
    {
      "cell_type": "markdown",
      "metadata": {
        "id": "fq7e4fF6A1yy",
        "colab_type": "text"
      },
      "source": [
        "## Part 3 - Training the ANN"
      ]
    },
    {
      "cell_type": "markdown",
      "metadata": {
        "id": "qDeylAs2An25",
        "colab_type": "text"
      },
      "source": [
        "### Compiling the ANN"
      ]
    },
    {
      "cell_type": "code",
      "metadata": {
        "id": "-skhThAqDu36",
        "colab_type": "code",
        "colab": {}
      },
      "source": [
        "ann.compile(optimizer='adam', loss='mean_squared_error')\n",
        "# 'adam' optimizer is the most popular optimizer when permorming SGD"
      ],
      "execution_count": 13,
      "outputs": []
    },
    {
      "cell_type": "markdown",
      "metadata": {
        "id": "YjVuiybYOo7r",
        "colab_type": "text"
      },
      "source": [
        "### Training the ANN model on the Training set\n"
      ]
    },
    {
      "cell_type": "code",
      "metadata": {
        "id": "6uXvm1SRG0be",
        "colab_type": "code",
        "colab": {
          "base_uri": "https://localhost:8080/",
          "height": 1000
        },
        "outputId": "55eb6ece-b92e-46b6-9073-d0ff1c8451db"
      },
      "source": [
        "ann.fit(x=X_train, y=y_train, batch_size=32, epochs=100)"
      ],
      "execution_count": 14,
      "outputs": [
        {
          "output_type": "stream",
          "text": [
            "Epoch 1/100\n",
            "240/240 [==============================] - 0s 854us/step - loss: 36564.8984\n",
            "Epoch 2/100\n",
            "240/240 [==============================] - 0s 833us/step - loss: 247.5524\n",
            "Epoch 3/100\n",
            "240/240 [==============================] - 0s 833us/step - loss: 240.3190\n",
            "Epoch 4/100\n",
            "240/240 [==============================] - 0s 832us/step - loss: 231.0561\n",
            "Epoch 5/100\n",
            "240/240 [==============================] - 0s 844us/step - loss: 220.4357\n",
            "Epoch 6/100\n",
            "240/240 [==============================] - 0s 865us/step - loss: 208.3457\n",
            "Epoch 7/100\n",
            "240/240 [==============================] - 0s 864us/step - loss: 194.6919\n",
            "Epoch 8/100\n",
            "240/240 [==============================] - 0s 808us/step - loss: 180.6528\n",
            "Epoch 9/100\n",
            "240/240 [==============================] - 0s 892us/step - loss: 165.0545\n",
            "Epoch 10/100\n",
            "240/240 [==============================] - 0s 854us/step - loss: 150.1129\n",
            "Epoch 11/100\n",
            "240/240 [==============================] - 0s 901us/step - loss: 134.1100\n",
            "Epoch 12/100\n",
            "240/240 [==============================] - 0s 810us/step - loss: 118.9043\n",
            "Epoch 13/100\n",
            "240/240 [==============================] - 0s 821us/step - loss: 103.4745\n",
            "Epoch 14/100\n",
            "240/240 [==============================] - 0s 833us/step - loss: 89.3174\n",
            "Epoch 15/100\n",
            "240/240 [==============================] - 0s 837us/step - loss: 76.3414\n",
            "Epoch 16/100\n",
            "240/240 [==============================] - 0s 810us/step - loss: 64.8193\n",
            "Epoch 17/100\n",
            "240/240 [==============================] - 0s 810us/step - loss: 55.2044\n",
            "Epoch 18/100\n",
            "240/240 [==============================] - 0s 824us/step - loss: 47.9145\n",
            "Epoch 19/100\n",
            "240/240 [==============================] - 0s 879us/step - loss: 41.6833\n",
            "Epoch 20/100\n",
            "240/240 [==============================] - 0s 793us/step - loss: 37.3011\n",
            "Epoch 21/100\n",
            "240/240 [==============================] - 0s 797us/step - loss: 34.4999\n",
            "Epoch 22/100\n",
            "240/240 [==============================] - 0s 873us/step - loss: 32.5511\n",
            "Epoch 23/100\n",
            "240/240 [==============================] - 0s 822us/step - loss: 31.4240\n",
            "Epoch 24/100\n",
            "240/240 [==============================] - 0s 884us/step - loss: 31.2885\n",
            "Epoch 25/100\n",
            "240/240 [==============================] - 0s 926us/step - loss: 30.6138\n",
            "Epoch 26/100\n",
            "240/240 [==============================] - 0s 922us/step - loss: 30.4163\n",
            "Epoch 27/100\n",
            "240/240 [==============================] - 0s 939us/step - loss: 30.3285\n",
            "Epoch 28/100\n",
            "240/240 [==============================] - 0s 834us/step - loss: 29.9364\n",
            "Epoch 29/100\n",
            "240/240 [==============================] - 0s 886us/step - loss: 29.7886\n",
            "Epoch 30/100\n",
            "240/240 [==============================] - 0s 953us/step - loss: 29.9490\n",
            "Epoch 31/100\n",
            "240/240 [==============================] - 0s 928us/step - loss: 29.4179\n",
            "Epoch 32/100\n",
            "240/240 [==============================] - 0s 886us/step - loss: 29.2341\n",
            "Epoch 33/100\n",
            "240/240 [==============================] - 0s 860us/step - loss: 29.0252\n",
            "Epoch 34/100\n",
            "240/240 [==============================] - 0s 920us/step - loss: 28.5484\n",
            "Epoch 35/100\n",
            "240/240 [==============================] - 0s 827us/step - loss: 29.4300\n",
            "Epoch 36/100\n",
            "240/240 [==============================] - 0s 825us/step - loss: 28.8429\n",
            "Epoch 37/100\n",
            "240/240 [==============================] - 0s 815us/step - loss: 28.1752\n",
            "Epoch 38/100\n",
            "240/240 [==============================] - 0s 836us/step - loss: 28.6812\n",
            "Epoch 39/100\n",
            "240/240 [==============================] - 0s 818us/step - loss: 28.2960\n",
            "Epoch 40/100\n",
            "240/240 [==============================] - 0s 823us/step - loss: 27.9793\n",
            "Epoch 41/100\n",
            "240/240 [==============================] - 0s 832us/step - loss: 27.4942\n",
            "Epoch 42/100\n",
            "240/240 [==============================] - 0s 829us/step - loss: 27.6678\n",
            "Epoch 43/100\n",
            "240/240 [==============================] - 0s 861us/step - loss: 27.6678\n",
            "Epoch 44/100\n",
            "240/240 [==============================] - 0s 856us/step - loss: 27.6575\n",
            "Epoch 45/100\n",
            "240/240 [==============================] - 0s 809us/step - loss: 27.4793\n",
            "Epoch 46/100\n",
            "240/240 [==============================] - 0s 818us/step - loss: 28.0093\n",
            "Epoch 47/100\n",
            "240/240 [==============================] - 0s 815us/step - loss: 27.1223\n",
            "Epoch 48/100\n",
            "240/240 [==============================] - 0s 866us/step - loss: 27.0368\n",
            "Epoch 49/100\n",
            "240/240 [==============================] - 0s 864us/step - loss: 27.2187\n",
            "Epoch 50/100\n",
            "240/240 [==============================] - 0s 801us/step - loss: 27.2372\n",
            "Epoch 51/100\n",
            "240/240 [==============================] - 0s 818us/step - loss: 26.7076\n",
            "Epoch 52/100\n",
            "240/240 [==============================] - 0s 875us/step - loss: 27.9034\n",
            "Epoch 53/100\n",
            "240/240 [==============================] - 0s 925us/step - loss: 26.5262\n",
            "Epoch 54/100\n",
            "240/240 [==============================] - 0s 827us/step - loss: 27.0747\n",
            "Epoch 55/100\n",
            "240/240 [==============================] - 0s 845us/step - loss: 26.4291\n",
            "Epoch 56/100\n",
            "240/240 [==============================] - 0s 856us/step - loss: 26.7391\n",
            "Epoch 57/100\n",
            "240/240 [==============================] - 0s 813us/step - loss: 27.2255\n",
            "Epoch 58/100\n",
            "240/240 [==============================] - 0s 851us/step - loss: 26.7283\n",
            "Epoch 59/100\n",
            "240/240 [==============================] - 0s 880us/step - loss: 26.9306\n",
            "Epoch 60/100\n",
            "240/240 [==============================] - 0s 874us/step - loss: 26.7262\n",
            "Epoch 61/100\n",
            "240/240 [==============================] - 0s 915us/step - loss: 26.7612\n",
            "Epoch 62/100\n",
            "240/240 [==============================] - 0s 797us/step - loss: 27.2102\n",
            "Epoch 63/100\n",
            "240/240 [==============================] - 0s 846us/step - loss: 26.8468\n",
            "Epoch 64/100\n",
            "240/240 [==============================] - 0s 833us/step - loss: 26.9935\n",
            "Epoch 65/100\n",
            "240/240 [==============================] - 0s 847us/step - loss: 26.9713\n",
            "Epoch 66/100\n",
            "240/240 [==============================] - 0s 875us/step - loss: 27.3309\n",
            "Epoch 67/100\n",
            "240/240 [==============================] - 0s 826us/step - loss: 26.6262\n",
            "Epoch 68/100\n",
            "240/240 [==============================] - 0s 841us/step - loss: 26.7942\n",
            "Epoch 69/100\n",
            "240/240 [==============================] - 0s 833us/step - loss: 26.8265\n",
            "Epoch 70/100\n",
            "240/240 [==============================] - 0s 873us/step - loss: 26.8212\n",
            "Epoch 71/100\n",
            "240/240 [==============================] - 0s 815us/step - loss: 26.9853\n",
            "Epoch 72/100\n",
            "240/240 [==============================] - 0s 835us/step - loss: 26.9320\n",
            "Epoch 73/100\n",
            "240/240 [==============================] - 0s 982us/step - loss: 26.5741\n",
            "Epoch 74/100\n",
            "240/240 [==============================] - 0s 826us/step - loss: 26.7650\n",
            "Epoch 75/100\n",
            "240/240 [==============================] - 0s 810us/step - loss: 26.3641\n",
            "Epoch 76/100\n",
            "240/240 [==============================] - 0s 837us/step - loss: 26.5136\n",
            "Epoch 77/100\n",
            "240/240 [==============================] - 0s 880us/step - loss: 26.5130\n",
            "Epoch 78/100\n",
            "240/240 [==============================] - 0s 810us/step - loss: 26.7227\n",
            "Epoch 79/100\n",
            "240/240 [==============================] - 0s 806us/step - loss: 26.7001\n",
            "Epoch 80/100\n",
            "240/240 [==============================] - 0s 864us/step - loss: 26.6656\n",
            "Epoch 81/100\n",
            "240/240 [==============================] - 0s 837us/step - loss: 26.8121\n",
            "Epoch 82/100\n",
            "240/240 [==============================] - 0s 866us/step - loss: 26.9865\n",
            "Epoch 83/100\n",
            "240/240 [==============================] - 0s 816us/step - loss: 26.5782\n",
            "Epoch 84/100\n",
            "240/240 [==============================] - 0s 818us/step - loss: 26.6482\n",
            "Epoch 85/100\n",
            "240/240 [==============================] - 0s 821us/step - loss: 26.8281\n",
            "Epoch 86/100\n",
            "240/240 [==============================] - 0s 876us/step - loss: 26.8743\n",
            "Epoch 87/100\n",
            "240/240 [==============================] - 0s 848us/step - loss: 26.6836\n",
            "Epoch 88/100\n",
            "240/240 [==============================] - 0s 824us/step - loss: 26.8798\n",
            "Epoch 89/100\n",
            "240/240 [==============================] - 0s 822us/step - loss: 26.8384\n",
            "Epoch 90/100\n",
            "240/240 [==============================] - 0s 837us/step - loss: 26.2852\n",
            "Epoch 91/100\n",
            "240/240 [==============================] - 0s 810us/step - loss: 27.8231\n",
            "Epoch 92/100\n",
            "240/240 [==============================] - 0s 861us/step - loss: 26.2883\n",
            "Epoch 93/100\n",
            "240/240 [==============================] - 0s 794us/step - loss: 26.9422\n",
            "Epoch 94/100\n",
            "240/240 [==============================] - 0s 867us/step - loss: 26.2729\n",
            "Epoch 95/100\n",
            "240/240 [==============================] - 0s 818us/step - loss: 27.1156\n",
            "Epoch 96/100\n",
            "240/240 [==============================] - 0s 813us/step - loss: 26.6960\n",
            "Epoch 97/100\n",
            "240/240 [==============================] - 0s 898us/step - loss: 26.4343\n",
            "Epoch 98/100\n",
            "240/240 [==============================] - 0s 821us/step - loss: 26.3713\n",
            "Epoch 99/100\n",
            "240/240 [==============================] - 0s 825us/step - loss: 27.3236\n",
            "Epoch 100/100\n",
            "240/240 [==============================] - 0s 805us/step - loss: 26.3707\n"
          ],
          "name": "stdout"
        },
        {
          "output_type": "execute_result",
          "data": {
            "text/plain": [
              "<tensorflow.python.keras.callbacks.History at 0x7f872148fda0>"
            ]
          },
          "metadata": {
            "tags": []
          },
          "execution_count": 14
        }
      ]
    },
    {
      "cell_type": "markdown",
      "metadata": {
        "id": "0H0zKKNEBLD5",
        "colab_type": "text"
      },
      "source": [
        "### Predicting the results of the Test set"
      ]
    },
    {
      "cell_type": "code",
      "metadata": {
        "id": "RuFltxIfJTx3",
        "colab_type": "code",
        "colab": {}
      },
      "source": [
        "y_pred = ann.predict(x=X_test)"
      ],
      "execution_count": 18,
      "outputs": []
    },
    {
      "cell_type": "code",
      "metadata": {
        "id": "5RKE23jiJ5nJ",
        "colab_type": "code",
        "colab": {
          "base_uri": "https://localhost:8080/",
          "height": 139
        },
        "outputId": "2aa2ac97-d7f4-4d2a-beee-e3d7adca48a8"
      },
      "source": [
        "np.set_printoptions(precision=2)\n",
        "np.concatenate(\n",
        "    [y_pred.reshape(len(y_pred), 1), y_test.reshape(len(y_test), 1)], \n",
        "    axis=1\n",
        "    )"
      ],
      "execution_count": 23,
      "outputs": [
        {
          "output_type": "execute_result",
          "data": {
            "text/plain": [
              "array([[456.38, 455.27],\n",
              "       [438.23, 436.31],\n",
              "       [433.7 , 440.68],\n",
              "       ...,\n",
              "       [481.07, 479.53],\n",
              "       [435.91, 435.76],\n",
              "       [459.21, 457.1 ]])"
            ]
          },
          "metadata": {
            "tags": []
          },
          "execution_count": 23
        }
      ]
    }
  ]
}